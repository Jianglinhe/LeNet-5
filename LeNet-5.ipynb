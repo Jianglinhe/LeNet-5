{
 "cells": [
  {
   "cell_type": "code",
   "execution_count": 1,
   "metadata": {},
   "outputs": [
    {
     "name": "stderr",
     "output_type": "stream",
     "text": [
      "Using TensorFlow backend.\n"
     ]
    }
   ],
   "source": [
    "from keras.models import Sequential\n",
    "from keras.layers import Conv2D, MaxPool2D, Flatten, Dense"
   ]
  },
  {
   "cell_type": "code",
   "execution_count": 2,
   "metadata": {
    "code_folding": []
   },
   "outputs": [],
   "source": [
    "def LeNet5():\n",
    "    '''\n",
    "    建立模型，此处改用最大池化，并选用ReLU作为激活函数\n",
    "    '''\n",
    "    model = Sequential()\n",
    "    \n",
    "    model.add(Conv2D(filters=6,kernel_size=5,strides=1,padding='valid',activation='relu',input_shape=(28,28,1),name='Conv_1'))\n",
    "    model.add(MaxPool2D(pool_size=(2,2),strides=2,name='Maxpool_2'))\n",
    "    model.add(Conv2D(filters=16,kernel_size=5,strides=1,padding='valid',activation='relu',name='Conv_3'))\n",
    "    model.add(MaxPool2D(pool_size=(2,2),strides=2,name='Maxpool_4'))\n",
    "    \n",
    "    model.add(Flatten())\n",
    "    \n",
    "    model.add(Dense(units=120,activation='relu',name='fc_5'))\n",
    "    model.add(Dense(units=84,activation='relu',name='fc_6'))\n",
    "    \n",
    "    model.add(Dense(units=10,activation='softmax',name='output_layer'))\n",
    "    \n",
    "    return model"
   ]
  },
  {
   "cell_type": "code",
   "execution_count": 3,
   "metadata": {},
   "outputs": [
    {
     "name": "stdout",
     "output_type": "stream",
     "text": [
      "WARNING:tensorflow:From D:\\Anaconda3\\envs\\tf_he\\lib\\site-packages\\keras\\backend\\tensorflow_backend.py:1205: calling reduce_prod (from tensorflow.python.ops.math_ops) with keep_dims is deprecated and will be removed in a future version.\n",
      "Instructions for updating:\n",
      "keep_dims is deprecated, use keepdims instead\n"
     ]
    }
   ],
   "source": [
    "model = LeNet5()"
   ]
  },
  {
   "cell_type": "code",
   "execution_count": 4,
   "metadata": {},
   "outputs": [
    {
     "name": "stdout",
     "output_type": "stream",
     "text": [
      "_________________________________________________________________\n",
      "Layer (type)                 Output Shape              Param #   \n",
      "=================================================================\n",
      "Conv_1 (Conv2D)              (None, 24, 24, 6)         156       \n",
      "_________________________________________________________________\n",
      "Maxpool_2 (MaxPooling2D)     (None, 12, 12, 6)         0         \n",
      "_________________________________________________________________\n",
      "Conv_3 (Conv2D)              (None, 8, 8, 16)          2416      \n",
      "_________________________________________________________________\n",
      "Maxpool_4 (MaxPooling2D)     (None, 4, 4, 16)          0         \n",
      "_________________________________________________________________\n",
      "flatten_1 (Flatten)          (None, 256)               0         \n",
      "_________________________________________________________________\n",
      "fc_5 (Dense)                 (None, 120)               30840     \n",
      "_________________________________________________________________\n",
      "fc_6 (Dense)                 (None, 84)                10164     \n",
      "_________________________________________________________________\n",
      "output_layer (Dense)         (None, 10)                850       \n",
      "=================================================================\n",
      "Total params: 44,426\n",
      "Trainable params: 44,426\n",
      "Non-trainable params: 0\n",
      "_________________________________________________________________\n"
     ]
    }
   ],
   "source": [
    "model.summary()"
   ]
  },
  {
   "cell_type": "code",
   "execution_count": 5,
   "metadata": {},
   "outputs": [],
   "source": [
    "from keras.datasets import mnist\n",
    "from keras.utils import np_utils"
   ]
  },
  {
   "cell_type": "code",
   "execution_count": 6,
   "metadata": {},
   "outputs": [
    {
     "name": "stdout",
     "output_type": "stream",
     "text": [
      "C:\\Users\\visitor\\.keras\\datasets\\mnist.npz\n"
     ]
    }
   ],
   "source": [
    "(x_train,y_train),(x_test,y_test) = mnist.load_data()"
   ]
  },
  {
   "cell_type": "code",
   "execution_count": 7,
   "metadata": {},
   "outputs": [],
   "source": [
    "x_train = x_train.reshape(-1,28,28,1)\n",
    "x_test = x_test.reshape(-1,28,28,1)\n",
    "y_train = np_utils.to_categorical(y_train,num_classes=10)\n",
    "y_test = np_utils.to_categorical(y_test,num_classes=10)"
   ]
  },
  {
   "cell_type": "code",
   "execution_count": 8,
   "metadata": {},
   "outputs": [],
   "source": [
    "x_train = x_train.astype('float32')\n",
    "x_test = x_test.astype('float32')\n",
    "x_train/=255\n",
    "x_test/=255"
   ]
  },
  {
   "cell_type": "code",
   "execution_count": 9,
   "metadata": {},
   "outputs": [],
   "source": [
    "from keras.optimizers import Adam\n",
    "adam = Adam(lr=0.001)"
   ]
  },
  {
   "cell_type": "code",
   "execution_count": 10,
   "metadata": {},
   "outputs": [
    {
     "name": "stdout",
     "output_type": "stream",
     "text": [
      "WARNING:tensorflow:From D:\\Anaconda3\\envs\\tf_he\\lib\\site-packages\\keras\\backend\\tensorflow_backend.py:2755: calling reduce_sum (from tensorflow.python.ops.math_ops) with keep_dims is deprecated and will be removed in a future version.\n",
      "Instructions for updating:\n",
      "keep_dims is deprecated, use keepdims instead\n",
      "WARNING:tensorflow:From D:\\Anaconda3\\envs\\tf_he\\lib\\site-packages\\keras\\backend\\tensorflow_backend.py:1290: calling reduce_mean (from tensorflow.python.ops.math_ops) with keep_dims is deprecated and will be removed in a future version.\n",
      "Instructions for updating:\n",
      "keep_dims is deprecated, use keepdims instead\n",
      "Epoch 1/20\n",
      "60000/60000 [==============================] - 6s - loss: 0.4757 - acc: 0.8646     \n",
      "Epoch 2/20\n",
      "60000/60000 [==============================] - 2s - loss: 0.1205 - acc: 0.9631     \n",
      "Epoch 3/20\n",
      "60000/60000 [==============================] - 2s - loss: 0.0820 - acc: 0.9747     \n",
      "Epoch 4/20\n",
      "60000/60000 [==============================] - 2s - loss: 0.0646 - acc: 0.9800     \n",
      "Epoch 5/20\n",
      "60000/60000 [==============================] - 2s - loss: 0.0526 - acc: 0.9839     \n",
      "Epoch 6/20\n",
      "60000/60000 [==============================] - 2s - loss: 0.0468 - acc: 0.9857     \n",
      "Epoch 7/20\n",
      "60000/60000 [==============================] - 2s - loss: 0.0398 - acc: 0.9875     \n",
      "Epoch 8/20\n",
      "60000/60000 [==============================] - 2s - loss: 0.0346 - acc: 0.9893     \n",
      "Epoch 9/20\n",
      "60000/60000 [==============================] - 2s - loss: 0.0314 - acc: 0.9903     - ETA: 1s - lo\n",
      "Epoch 10/20\n",
      "60000/60000 [==============================] - 2s - loss: 0.0274 - acc: 0.9919     \n",
      "Epoch 11/20\n",
      "60000/60000 [==============================] - 2s - loss: 0.0257 - acc: 0.9918     \n",
      "Epoch 12/20\n",
      "60000/60000 [==============================] - 2s - loss: 0.0221 - acc: 0.9929     \n",
      "Epoch 13/20\n",
      "60000/60000 [==============================] - 2s - loss: 0.0200 - acc: 0.9936     \n",
      "Epoch 14/20\n",
      "60000/60000 [==============================] - 2s - loss: 0.0194 - acc: 0.9937     - ETA: 1s - loss:\n",
      "Epoch 15/20\n",
      "60000/60000 [==============================] - 2s - loss: 0.0184 - acc: 0.9940     \n",
      "Epoch 16/20\n",
      "60000/60000 [==============================] - 2s - loss: 0.0155 - acc: 0.9952     \n",
      "Epoch 17/20\n",
      "60000/60000 [==============================] - 2s - loss: 0.0147 - acc: 0.9952     \n",
      "Epoch 18/20\n",
      "60000/60000 [==============================] - 2s - loss: 0.0122 - acc: 0.9960     \n",
      "Epoch 19/20\n",
      "60000/60000 [==============================] - 2s - loss: 0.0122 - acc: 0.9961     \n",
      "Epoch 20/20\n",
      "60000/60000 [==============================] - 2s - loss: 0.0115 - acc: 0.9961     \n"
     ]
    },
    {
     "data": {
      "text/plain": [
       "<keras.callbacks.History at 0x133ff7e27b8>"
      ]
     },
     "execution_count": 10,
     "metadata": {},
     "output_type": "execute_result"
    }
   ],
   "source": [
    "model.compile(optimizer=adam,loss='categorical_crossentropy',metrics=['accuracy'])\n",
    "model.fit(x_train,y_train,epochs=20,batch_size=256)"
   ]
  },
  {
   "cell_type": "code",
   "execution_count": 11,
   "metadata": {},
   "outputs": [
    {
     "name": "stdout",
     "output_type": "stream",
     "text": [
      " 9696/10000 [============================>.] - ETA: 0s\n",
      "test loss: 0.032903759519418964\n",
      "\n",
      "test accuracy: 0.9905\n"
     ]
    }
   ],
   "source": [
    "score = model.evaluate(x_test,y_test)\n",
    "print('\\ntest loss:',score[0])\n",
    "print('\\ntest accuracy:',score[1])"
   ]
  },
  {
   "cell_type": "code",
   "execution_count": 15,
   "metadata": {},
   "outputs": [],
   "source": [
    "model.save('LeNet-5.h5')"
   ]
  }
 ],
 "metadata": {
  "kernelspec": {
   "display_name": "Python 3",
   "language": "python",
   "name": "python3"
  },
  "language_info": {
   "codemirror_mode": {
    "name": "ipython",
    "version": 3
   },
   "file_extension": ".py",
   "mimetype": "text/x-python",
   "name": "python",
   "nbconvert_exporter": "python",
   "pygments_lexer": "ipython3",
   "version": "3.5.5"
  },
  "toc": {
   "base_numbering": 1,
   "nav_menu": {},
   "number_sections": true,
   "sideBar": true,
   "skip_h1_title": false,
   "title_cell": "Table of Contents",
   "title_sidebar": "Contents",
   "toc_cell": false,
   "toc_position": {},
   "toc_section_display": true,
   "toc_window_display": false
  }
 },
 "nbformat": 4,
 "nbformat_minor": 2
}
